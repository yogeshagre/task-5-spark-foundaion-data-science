{
  "nbformat": 4,
  "nbformat_minor": 0,
  "metadata": {
    "colab": {
      "provenance": [],
      "authorship_tag": "ABX9TyMLrG5OuiEf7lbU5LgGiOfT",
      "include_colab_link": true
    },
    "kernelspec": {
      "name": "python3",
      "display_name": "Python 3"
    },
    "language_info": {
      "name": "python"
    }
  },
  "cells": [
    {
      "cell_type": "markdown",
      "metadata": {
        "id": "view-in-github",
        "colab_type": "text"
      },
      "source": [
        "<a href=\"https://colab.research.google.com/github/yogeshagre/task-5-spark-foundaion-data-science/blob/main/Python_task_1_.ipynb\" target=\"_parent\"><img src=\"https://colab.research.google.com/assets/colab-badge.svg\" alt=\"Open In Colab\"/></a>"
      ]
    },
    {
      "cell_type": "markdown",
      "source": [
        "#Python task 1"
      ],
      "metadata": {
        "id": "Iv3vw2NZs9S6"
      }
    },
    {
      "cell_type": "code",
      "source": [
        "# Mounting google drive\n",
        "from google.colab import drive\n",
        "drive.mount('/content/drive')"
      ],
      "metadata": {
        "colab": {
          "base_uri": "https://localhost:8080/"
        },
        "id": "VvofT_H0GsGH",
        "outputId": "74575d00-a711-4c57-f698-8d0c7ce38c4e"
      },
      "execution_count": 2,
      "outputs": [
        {
          "output_type": "stream",
          "name": "stdout",
          "text": [
            "Mounted at /content/drive\n"
          ]
        }
      ]
    },
    {
      "cell_type": "markdown",
      "source": [
        "Question 1: Car Matrix Generation"
      ],
      "metadata": {
        "id": "oZp30FPxwO0-"
      }
    },
    {
      "cell_type": "code",
      "source": [
        "# Load Dataset\n",
        "data = pd.read_csv(\"/content/dataset-1.csv\")"
      ],
      "metadata": {
        "id": "o-bmA8mcG0Ki"
      },
      "execution_count": 4,
      "outputs": []
    },
    {
      "cell_type": "code",
      "source": [
        "import pandas as pd\n",
        "\n",
        "def generate_car_matrix(df: pd.DataFrame) -> pd.DataFrame:\n",
        "    \"\"\"\n",
        "    Creates a DataFrame for id combinations.\n",
        "\n",
        "    Args:\n",
        "        df (pandas.DataFrame): Input DataFrame with 'id_1', 'id_2', and 'car' columns.\n",
        "\n",
        "    Returns:\n",
        "        pandas.DataFrame: Matrix generated with 'car' values,\n",
        "                          where 'id_1' and 'id_2' are used as indices and columns respectively.\n",
        "    \"\"\"\n",
        "    # Create a pivot table with 'id_1' as index, 'id_2' as columns, and 'car' as values\n",
        "    car_matrix = df.pivot(index='id_1', columns='id_2', values='car').fillna(0)\n",
        "\n",
        "    # Fill diagonal values with 0\n",
        "    for idx in car_matrix.index:\n",
        "        car_matrix.at[idx, idx] = 0\n",
        "\n",
        "    return car_matrix\n",
        "\n",
        "# Load the dataset\n",
        "df = pd.read_csv(\"/content/dataset-1.csv\")\n",
        "\n",
        "# Call the function with the dataset\n",
        "result = generate_car_matrix(df)\n",
        "\n",
        "# Display the result\n",
        "print(result)\n"
      ],
      "metadata": {
        "colab": {
          "base_uri": "https://localhost:8080/"
        },
        "id": "AVkRtfu5F1la",
        "outputId": "3eff9fc3-dced-421f-dc51-90815d71f374"
      },
      "execution_count": 12,
      "outputs": [
        {
          "output_type": "stream",
          "name": "stdout",
          "text": [
            "id_2    801    802    803    804    805    806    807    808    809    821  \\\n",
            "id_1                                                                         \n",
            "801    0.00   2.80   6.00   7.70  11.70  13.40  16.90  19.60  21.00  23.52   \n",
            "802    2.80   0.00   3.40   5.20   9.20  10.90  14.30  17.10  18.50  20.92   \n",
            "803    6.00   3.40   0.00   2.00   6.00   7.70  11.10  13.90  15.30  17.72   \n",
            "804    7.70   5.20   2.00   0.00   4.40   6.10   9.50  12.30  13.70  16.12   \n",
            "805   11.70   9.20   6.00   4.40   0.00   2.00   5.40   8.20   9.60  12.02   \n",
            "806   13.40  10.90   7.70   6.10   2.00   0.00   3.80   6.60   8.00  10.42   \n",
            "807   16.90  14.30  11.10   9.50   5.40   3.80   0.00   2.90   4.30   6.82   \n",
            "808   19.60  17.10  13.90  12.30   8.20   6.60   2.90   0.00   1.70   4.12   \n",
            "809   21.00  18.50  15.30  13.70   9.60   8.00   4.30   1.70   0.00   2.92   \n",
            "821   23.52  20.92  17.72  16.12  12.02  10.42   6.82   4.12   2.92   0.00   \n",
            "822   24.67  22.07  18.87  17.27  13.17  11.57   7.97   5.27   4.07   1.80   \n",
            "823   26.53  23.93  20.73  19.13  15.03  13.43   9.83   7.13   5.93   3.67   \n",
            "824   27.92  25.32  22.12  20.52  16.42   7.80  11.22   8.52   7.32   5.06   \n",
            "825   29.08  26.48  23.28  21.68  17.58  15.98  12.38   9.68   8.48   6.22   \n",
            "826   30.87  28.27  25.07  23.47  19.37  17.77  14.17  11.47  10.27   8.01   \n",
            "827   32.53  29.93  26.73  25.13  21.03  19.43  15.83  13.13  11.93   9.43   \n",
            "829   36.32  33.72  30.52  28.92  24.82  23.22  19.62  16.92  15.72  13.26   \n",
            "830   38.27  35.67  32.47  30.87  26.77  25.17  21.57  18.87  17.67  15.17   \n",
            "831   39.24  36.64  33.44  31.84  27.74  26.14  22.54  19.84  18.64  16.15   \n",
            "\n",
            "id_2    822    823    824    825    826    827    829    830    831  \n",
            "id_1                                                                 \n",
            "801   24.67  26.53  27.92  29.08  30.87  32.53  36.32  38.27  39.24  \n",
            "802   22.07  23.93  25.32  26.48  28.27  29.93  33.72  35.67  36.64  \n",
            "803   18.87  20.73  22.12  23.28  25.07  26.73  30.52  32.47  33.44  \n",
            "804   17.27  19.13  20.52  21.68  23.47  25.13  28.92  30.87  31.84  \n",
            "805   13.17  15.03  16.42  17.58  19.37  21.03  24.82  26.77  27.74  \n",
            "806   11.57  13.43  14.82  15.98  17.77  19.43  23.22  25.17  26.14  \n",
            "807    7.97   9.83  11.22  12.38  14.17  15.83  19.62  21.57  22.54  \n",
            "808    5.27   7.13   8.52   9.68  11.47  13.13  16.92  18.87  19.84  \n",
            "809    4.07   5.93   7.32   8.48  10.27  11.93  15.72  17.67  18.64  \n",
            "821    1.80   3.67   5.06   6.22   8.01   9.43  13.26  15.17  16.15  \n",
            "822    0.00   2.21   3.60   4.76   6.55   8.00  11.81  13.74  14.68  \n",
            "823    2.21   0.00   1.79   2.94   4.74   6.15  10.00  11.89  12.87  \n",
            "824    3.60   1.79   0.00   1.71   3.50   4.92   8.77  10.66  11.64  \n",
            "825    4.76   2.94   1.71   0.00   2.20   3.65   7.46   9.35  10.33  \n",
            "826    6.55   4.74   3.50   2.20   0.00   2.05   5.81   7.71   8.69  \n",
            "827    8.00   6.15   4.92   3.65   2.05   0.00   4.14   6.06   7.04  \n",
            "829   11.81  10.00  21.40   7.46   5.81   4.14   0.00   2.38   3.36  \n",
            "830   13.74  11.89  10.66   0.00   7.71   6.06   2.38   0.00   1.39  \n",
            "831   14.68  12.87  11.64  10.33   8.69   7.04   3.36   1.39   0.00  \n"
          ]
        }
      ]
    },
    {
      "cell_type": "markdown",
      "source": [
        "Question 2: Car Type Count Calculation"
      ],
      "metadata": {
        "id": "i1nc-8wBwRJt"
      }
    },
    {
      "cell_type": "code",
      "source": [
        "import pandas as pd\n",
        "\n",
        "def get_type_count(df: pd.DataFrame) -> dict:\n",
        "    \"\"\"\n",
        "    Categorizes 'car' values into types and returns a dictionary of counts.\n",
        "\n",
        "    Args:\n",
        "        df (pandas.DataFrame): Input DataFrame with 'car' column.\n",
        "\n",
        "    Returns:\n",
        "        dict: A dictionary with car types as keys and their counts as values.\n",
        "    \"\"\"\n",
        "    # Create a new column 'car_type' based on 'car' values\n",
        "    df['car_type'] = pd.cut(df['car'], bins=[-float('inf'), 15, 25, float('inf')],\n",
        "                            labels=['low', 'medium', 'high'], right=False)\n",
        "\n",
        "    # Calculate the count of occurrences for each car_type category\n",
        "    type_counts = df['car_type'].value_counts().to_dict()\n",
        "\n",
        "    # Sort the dictionary alphabetically based on keys\n",
        "    type_counts = dict(sorted(type_counts.items()))\n",
        "\n",
        "    return type_counts\n",
        "\n",
        "# Load the dataset\n",
        "df = pd.read_csv('/content/dataset-1.csv')\n",
        "\n",
        "# Call the function with the dataset\n",
        "result = get_type_count(df)\n",
        "\n",
        "# Display the result\n",
        "print(result)\n"
      ],
      "metadata": {
        "colab": {
          "base_uri": "https://localhost:8080/"
        },
        "id": "xicA9_bqF1oA",
        "outputId": "2d6df41c-1e4e-4263-c1b6-fff4aa692c47"
      },
      "execution_count": 15,
      "outputs": [
        {
          "output_type": "stream",
          "name": "stdout",
          "text": [
            "{'high': 56, 'low': 196, 'medium': 89}\n"
          ]
        }
      ]
    },
    {
      "cell_type": "markdown",
      "source": [
        "Question 3: Bus Count Index Retrieval"
      ],
      "metadata": {
        "id": "MiB83jpfwfkp"
      }
    },
    {
      "cell_type": "code",
      "source": [
        "import pandas as pd\n",
        "\n",
        "def get_bus_indexes(df: pd.DataFrame) -> list:\n",
        "    \"\"\"\n",
        "    Returns the indexes where the 'bus' values are greater than twice the mean.\n",
        "\n",
        "    Args:\n",
        "        df (pandas.DataFrame): Input DataFrame with 'bus' column.\n",
        "\n",
        "    Returns:\n",
        "        list: List of indexes where 'bus' values exceed twice the mean.\n",
        "    \"\"\"\n",
        "    # Calculate the mean of the 'bus' column\n",
        "    bus_mean = df['bus'].mean()\n",
        "\n",
        "    # Identify the indexes where 'bus' values are greater than twice the mean\n",
        "    bus_indexes = df[df['bus'] > 2 * bus_mean].index.tolist()\n",
        "\n",
        "    # Sort the indexes in ascending order\n",
        "    bus_indexes.sort()\n",
        "\n",
        "    return bus_indexes\n",
        "\n",
        "# Load the dataset\n",
        "df = pd.read_csv(\"/content/dataset-1.csv\")\n",
        "\n",
        "# Call the function with the dataset\n",
        "result = get_bus_indexes(df)\n",
        "\n",
        "# Display the result\n",
        "print(result)\n"
      ],
      "metadata": {
        "colab": {
          "base_uri": "https://localhost:8080/"
        },
        "id": "sGQl5DQ3F1qX",
        "outputId": "65386150-5acc-40e2-b919-718841630eec"
      },
      "execution_count": 17,
      "outputs": [
        {
          "output_type": "stream",
          "name": "stdout",
          "text": [
            "[2, 7, 12, 17, 25, 30, 54, 64, 70, 97, 144, 145, 149, 154, 160, 201, 206, 210, 215, 234, 235, 245, 250, 309, 314, 319, 322, 323, 334, 340]\n"
          ]
        }
      ]
    },
    {
      "cell_type": "markdown",
      "source": [
        "Question 4: Route Filtering"
      ],
      "metadata": {
        "id": "dJlNs9CJwjt2"
      }
    },
    {
      "cell_type": "code",
      "source": [
        "import pandas as pd\n",
        "\n",
        "def filter_routes(df: pd.DataFrame) -> list:\n",
        "    \"\"\"\n",
        "    Filters and returns routes with average 'truck' values greater than 7.\n",
        "\n",
        "    Args:\n",
        "        df (pandas.DataFrame): Input DataFrame with 'route' and 'truck' columns.\n",
        "\n",
        "    Returns:\n",
        "        list: List of route names with average 'truck' values greater than 7.\n",
        "    \"\"\"\n",
        "    # Calculate the average 'truck' values for each route\n",
        "    average_truck_by_route = df.groupby('route')['truck'].mean()\n",
        "\n",
        "    # Filter routes where the average 'truck' value is greater than 7\n",
        "    selected_routes = average_truck_by_route[average_truck_by_route > 7].index.tolist()\n",
        "\n",
        "    # Sort the list of routes in ascending order\n",
        "    selected_routes.sort()\n",
        "\n",
        "    return selected_routes\n",
        "\n",
        "# Load the dataset\n",
        "df = pd.read_csv(\"/content/dataset-1.csv\")\n",
        "\n",
        "# Call the function with the dataset\n",
        "result = filter_routes(df)\n",
        "\n",
        "# Display the result\n",
        "print(result)\n"
      ],
      "metadata": {
        "colab": {
          "base_uri": "https://localhost:8080/"
        },
        "id": "JjkbQd_hF1tZ",
        "outputId": "d613d0f2-2068-4a05-9bba-3661a7de630b"
      },
      "execution_count": 18,
      "outputs": [
        {
          "output_type": "stream",
          "name": "stdout",
          "text": [
            "[1, 2, 3, 4, 5, 6, 7, 8, 9, 10]\n"
          ]
        }
      ]
    },
    {
      "cell_type": "markdown",
      "source": [
        "Question 5: Matrix Value Modification"
      ],
      "metadata": {
        "id": "oQjxyYI3wnDh"
      }
    },
    {
      "cell_type": "code",
      "source": [
        "import pandas as pd\n",
        "\n",
        "def multiply_matrix(matrix: pd.DataFrame) -> pd.DataFrame:\n",
        "    \"\"\"\n",
        "    Multiplies matrix values with custom conditions.\n",
        "\n",
        "    Args:\n",
        "        matrix (pandas.DataFrame): Input matrix DataFrame.\n",
        "\n",
        "    Returns:\n",
        "        pandas.DataFrame: Modified matrix with values multiplied based on custom conditions.\n",
        "    \"\"\"\n",
        "    # Apply custom conditions to multiply matrix values\n",
        "    modified_matrix = matrix.applymap(lambda x: x * 0.75 if x > 20 else x * 1.25)\n",
        "\n",
        "    # Round values to 1 decimal place\n",
        "    modified_matrix = modified_matrix.round(1)\n",
        "\n",
        "    return modified_matrix\n",
        "\n",
        "# Example usage with DataFrame5\n",
        "matrix_data = {\n",
        "    '801': [0.0, 5.5, 6.9, 15.4, 23.5, 26.8],\n",
        "    '802': [5.5, 0.0, 6.9, 10.3, 18.4, 21.7],\n",
        "    '803': [12.0, 6.9, 0.0, 3.9, 12.0, 15.3],\n",
        "    '804': [15.4, 10.3, 3.9, 0.0, 8.8, 12.2],\n",
        "    '805': [23.5, 18.4, 12.0, 8.8, 0.0, 4.0],\n",
        "    '806': [26.8, 21.7, 15.3, 12.2, 4.0, 0.0],\n",
        "}\n",
        "\n",
        "# Create DataFrame5\n",
        "df5 = pd.DataFrame(matrix_data, index=['801', '802', '803', '804', '805', '806'])\n",
        "\n",
        "# Call the function with DataFrame5\n",
        "result = multiply_matrix(df5)\n",
        "\n",
        "# Display the result\n",
        "print(result)\n"
      ],
      "metadata": {
        "colab": {
          "base_uri": "https://localhost:8080/"
        },
        "id": "I8p-LXBoS5Vh",
        "outputId": "c2eef72d-d844-411d-ede8-917d2377dc06"
      },
      "execution_count": 19,
      "outputs": [
        {
          "output_type": "stream",
          "name": "stdout",
          "text": [
            "      801   802   803   804   805   806\n",
            "801   0.0   6.9  15.0  19.2  17.6  20.1\n",
            "802   6.9   0.0   8.6  12.9  23.0  16.3\n",
            "803   8.6   8.6   0.0   4.9  15.0  19.1\n",
            "804  19.2  12.9   4.9   0.0  11.0  15.2\n",
            "805  17.6  23.0  15.0  11.0   0.0   5.0\n",
            "806  20.1  16.3  19.1  15.2   5.0   0.0\n"
          ]
        }
      ]
    },
    {
      "cell_type": "markdown",
      "source": [
        "Question 6: Time Check"
      ],
      "metadata": {
        "id": "A2mO8tAvwuZQ"
      }
    },
    {
      "cell_type": "code",
      "source": [
        "import pandas as pd\n",
        "\n",
        "def time_check(df):\n",
        "    \"\"\"\n",
        "    Use shared dataset-2 to verify the completeness of the data by checking whether the timestamps for each unique (`id`, `id_2`) pair cover a full 24-hour and 7 days period\n",
        "\n",
        "    Args:\n",
        "        df (pandas.DataFrame)\n",
        "\n",
        "    Returns:\n",
        "        pd.Series: Return a boolean series\n",
        "    \"\"\"\n",
        "    # Combine 'startDay' and 'startTime' to create a 'start_timestamp' column\n",
        "    df['start_timestamp'] = pd.to_datetime(df['startDay'] + ' ' + df['startTime'])\n",
        "\n",
        "    # Check if each (id, id_2) pair has correct timestamps\n",
        "    result_series = (df.groupby(['id', 'id_2'])\n",
        "                     .apply(lambda group: (\n",
        "                             (group['start_timestamp'].min().hour == 0)\n",
        "                             and (group['start_timestamp'].max().hour == 23)\n",
        "                             and (group['start_timestamp'].nunique() == 7)\n",
        "                         )\n",
        "                     )\n",
        "                    )\n",
        "\n",
        "    return result_series\n",
        "\n",
        "# Note: Uncomment and provide the path to your dataset-2.csv file\n",
        "df = pd.read_csv(\"/content/dataset-2.csv\")\n",
        "#result_series = time_check(df)\n",
        "#print(result_series)\n",
        "\n"
      ],
      "metadata": {
        "id": "Ism0rPoDf7nv"
      },
      "execution_count": 8,
      "outputs": []
    },
    {
      "cell_type": "code",
      "source": [],
      "metadata": {
        "id": "Ko1pvI7ujavP"
      },
      "execution_count": 16,
      "outputs": []
    },
    {
      "cell_type": "code",
      "source": [],
      "metadata": {
        "id": "9aD5KCXajbLJ"
      },
      "execution_count": null,
      "outputs": []
    },
    {
      "cell_type": "code",
      "source": [],
      "metadata": {
        "id": "vR99GwgSjbmB"
      },
      "execution_count": null,
      "outputs": []
    },
    {
      "cell_type": "code",
      "source": [],
      "metadata": {
        "id": "aOo9qfYfjb_t"
      },
      "execution_count": null,
      "outputs": []
    }
  ]
}